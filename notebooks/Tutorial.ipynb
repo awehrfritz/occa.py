{
 "cells": [
  {
   "cell_type": "markdown",
   "metadata": {},
   "source": [
    "# Tutorial Notebook\n",
    "\n",
    "We'll go through the OCCA basics, to install run\n",
    "\n",
    "```bash\n",
    "pip install occa\n",
    "```\n",
    "\n",
    "or from source inside the `occa.py/` directory\n",
    "\n",
    "```bash\n",
    "pip install -e .\n",
    "```\n",
    "\n",
    "Useful links\n",
    "\n",
    "- [OCCA Documentation](https://libocca.org/#/guide/occa/introduction)\n",
    "- [OKL (OCCA Kernel language) Documentation](https://libocca.org/#/guide/okl/introduction)\n",
    "- [Github Repo](https://github.com/libocca/occa.py)"
   ]
  },
  {
   "cell_type": "markdown",
   "metadata": {},
   "source": [
    "## Imports"
   ]
  },
  {
   "cell_type": "code",
   "execution_count": 1,
   "metadata": {},
   "outputs": [],
   "source": [
    "import numpy as np\n",
    "import occa"
   ]
  },
  {
   "cell_type": "markdown",
   "metadata": {},
   "source": [
    "## Device\n",
    "\n",
    "> A physical device we're communicating with, whether the same physical device as the host or an offload device. Examples include CPU processors, GPUs, and Xeon Phi.\n",
    "\n",
    "A few options to setting up a Device:\n",
    "\n",
    "- Kwargs\n",
    "\n",
    "```python\n",
    "occa.Device(mode='CUDA'\n",
    "            device_id=0)\n",
    "    ```\n",
    "\n",
    "- Dict\n",
    "\n",
    "```python\n",
    "occa.Device({\n",
    "    'mode': 'CUDA',\n",
    "    'device_id': 0,\n",
    "})\n",
    "```\n",
    "\n",
    "- String (handles JSON and most of JSON5. Note the initial `{}` can be omitted since it expects a JSON object)\n",
    "\n",
    "```python\n",
    "occa.Device(\"mode: 'CUDA', device_id: 0\")\n",
    "```"
   ]
  },
  {
   "cell_type": "code",
   "execution_count": 17,
   "metadata": {},
   "outputs": [],
   "source": [
    "# We'll use the default 'Serial' device\n",
    "device = occa.Device(mode='Serial')"
   ]
  },
  {
   "cell_type": "markdown",
   "metadata": {},
   "source": [
    "## Memory\n",
    "\n",
    "We need to allocate memory in the device\n",
    "\n",
    "To initialize data in the device, we can either\n",
    "\n",
    "- Copy host data to the device\n",
    "- Modified inside a kernel call (Explained in the [kernel section](#kernel))\n"
   ]
  },
  {
   "cell_type": "code",
   "execution_count": 18,
   "metadata": {},
   "outputs": [],
   "source": [
    "entries = 10\n",
    "\n",
    "a  = np.arange(entries, dtype=np.float32)\n",
    "b  = 1 - a\n",
    "ab = np.zeros(entries, dtype=np.float32)\n",
    "\n",
    "# Allocate memory in device and copy over data\n",
    "o_a  = device.malloc(a)\n",
    "o_b  = device.malloc(b)\n",
    "o_ab = device.malloc(entries, dtype=np.float32)"
   ]
  },
  {
   "cell_type": "markdown",
   "metadata": {},
   "source": [
    "## Kernel\n",
    "\n",
    "Kernels are built at runtime so we require 2 things\n",
    "\n",
    "- The kernel source code (string or file)\n",
    "- The name of the kernel in the source code we wish to use\n",
    "\n",
    "To learn more about the kernel language, checkout the [OKL documentation](https://libocca.org/#/guide/okl/introduction)"
   ]
  },
  {
   "cell_type": "code",
   "execution_count": 19,
   "metadata": {},
   "outputs": [],
   "source": [
    "add_vectors_source = r'''\n",
    "@kernel void addVectors(const int entries,\n",
    "                        const float *a,\n",
    "                        const float *b,\n",
    "                        float *ab) {\n",
    "  for (int i = 0; i < entries; ++i; @tile(16, @outer, @inner)) {\n",
    "    ab[i] = a[i] + b[i];\n",
    "  }\n",
    "}\n",
    "'''\n",
    "\n",
    "add_vectors = device.build_kernel_from_string(add_vectors_source,\n",
    "                                              'addVectors')\n",
    "\n",
    "# Or you can build from a file\n",
    "# add_vectors = d.build_kernel('addVectors.okl',\n",
    "#                              'addVectors')"
   ]
  },
  {
   "cell_type": "markdown",
   "metadata": {},
   "source": [
    "## Launch Kernel\n",
    "\n",
    "Run an OCCA kernel as a regular function\n",
    "\n",
    "\n",
    "### Types\n",
    "\n",
    "Make sure Python and C/C++ types match\n",
    "\n",
    "For example\n",
    "- Python's `int` is usually the same as C/C++'s `long`\n",
    "- Python's `float` is usually the same as C/C++'s `double`\n",
    "\n",
    "Try to use numpy types or use `np.intc` and `np.float32` for these ambiguous types"
   ]
  },
  {
   "cell_type": "code",
   "execution_count": 20,
   "metadata": {
    "scrolled": true
   },
   "outputs": [
    {
     "data": {
      "text/plain": [
       "array([0., 0., 0., 0., 0., 0., 0., 0., 0., 0.], dtype=float32)"
      ]
     },
     "execution_count": 20,
     "metadata": {},
     "output_type": "execute_result"
    }
   ],
   "source": [
    "add_vectors(np.intc(entries),\n",
    "            o_a, o_b, o_ab)\n",
    "\n",
    "#Before\n",
    "ab"
   ]
  },
  {
   "cell_type": "markdown",
   "metadata": {},
   "source": [
    "# Syncing Host and Device\n",
    "Copy over data using `copy_to` or create an array using `to_ndarray()`"
   ]
  },
  {
   "cell_type": "code",
   "execution_count": 21,
   "metadata": {},
   "outputs": [
    {
     "data": {
      "text/plain": [
       "array([1., 1., 1., 1., 1., 1., 1., 1., 1., 1.], dtype=float32)"
      ]
     },
     "execution_count": 21,
     "metadata": {},
     "output_type": "execute_result"
    }
   ],
   "source": [
    "# Copy device data to host\n",
    "o_ab.copy_to(ab)\n",
    "\n",
    "#After\n",
    "ab"
   ]
  },
  {
   "cell_type": "markdown",
   "metadata": {},
   "source": [
    "## Kernel + numpy.ndarray\n",
    "\n",
    "Numpy ndarrays can be passed with the following performance penalties:\n",
    "- Memory is temporarily allocated in the device\n",
    "- Numpy data is copied to and from the device\n",
    "- Kernel launches are no longer asynchronous\n",
    "\n",
    "However, this feature is useful for fast prototyping"
   ]
  },
  {
   "cell_type": "code",
   "execution_count": 22,
   "metadata": {},
   "outputs": [
    {
     "data": {
      "text/plain": [
       "array([0., 0., 0., 0., 0., 0., 0., 0., 0., 0.], dtype=float32)"
      ]
     },
     "execution_count": 22,
     "metadata": {},
     "output_type": "execute_result"
    }
   ],
   "source": [
    "ab = np.zeros(entries, dtype=np.float32)\n",
    "ab"
   ]
  },
  {
   "cell_type": "code",
   "execution_count": 23,
   "metadata": {},
   "outputs": [
    {
     "data": {
      "text/plain": [
       "array([1., 1., 1., 1., 1., 1., 1., 1., 1., 1.], dtype=float32)"
      ]
     },
     "execution_count": 23,
     "metadata": {},
     "output_type": "execute_result"
    }
   ],
   "source": [
    "add_vectors(np.intc(entries),\n",
    "            a, b, ab)\n",
    "ab"
   ]
  },
  {
   "cell_type": "markdown",
   "metadata": {},
   "source": [
    "## **⚠️ Experimental**: Python &rarr; OKL"
   ]
  },
  {
   "cell_type": "code",
   "execution_count": null,
   "metadata": {},
   "outputs": [],
   "source": [
    "from typing import List\n",
    "\n",
    "from occa import okl\n",
    "from occa.okl import Const"
   ]
  },
  {
   "cell_type": "code",
   "execution_count": null,
   "metadata": {},
   "outputs": [],
   "source": [
    "@okl.kernel\n",
    "def py_add_vectors(a: Const[List[np.float32]],\n",
    "                   b: Const[List[np.float32]],\n",
    "                   ab: List[np.float32]) -> None:\n",
    "    for i in okl.range(entries).tile(16):\n",
    "        ab[i] = a[i] + b[i] "
   ]
  },
  {
   "cell_type": "code",
   "execution_count": 38,
   "metadata": {},
   "outputs": [
    {
     "data": {
      "text/plain": [
       "array([0., 0., 0., 0., 0., 0., 0., 0., 0., 0.], dtype=float32)"
      ]
     },
     "execution_count": 38,
     "metadata": {},
     "output_type": "execute_result"
    }
   ],
   "source": [
    "# Reset ab\n",
    "ab = np.zeros(entries, dtype=np.float32)\n",
    "o_ab.copy_from(ab)\n",
    "o_ab.to_ndarray()"
   ]
  },
  {
   "cell_type": "code",
   "execution_count": 39,
   "metadata": {},
   "outputs": [
    {
     "data": {
      "text/plain": [
       "array([1., 1., 1., 1., 1., 1., 1., 1., 1., 1.], dtype=float32)"
      ]
     },
     "execution_count": 39,
     "metadata": {},
     "output_type": "execute_result"
    }
   ],
   "source": [
    "py_add_vectors(o_a, o_b, o_ab, device=device)\n",
    "o_ab.to_ndarray()"
   ]
  }
 ],
 "metadata": {
  "kernelspec": {
   "display_name": "Python 3",
   "language": "python",
   "name": "python3"
  },
  "language_info": {
   "codemirror_mode": {
    "name": "ipython",
    "version": 3
   },
   "file_extension": ".py",
   "mimetype": "text/x-python",
   "name": "python",
   "nbconvert_exporter": "python",
   "pygments_lexer": "ipython3",
   "version": "3.6.6"
  }
 },
 "nbformat": 4,
 "nbformat_minor": 2
}
