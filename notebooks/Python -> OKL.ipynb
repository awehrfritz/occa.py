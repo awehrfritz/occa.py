{
 "cells": [
  {
   "cell_type": "markdown",
   "metadata": {},
   "source": [
    "# Python &rarr; OKL Sandbox\n",
    "\n",
    "AST Grammar info can be found in the [ast docs](https://docs.python.org/3/library/ast.html#abstract-grammar)"
   ]
  },
  {
   "cell_type": "code",
   "execution_count": 1,
   "metadata": {},
   "outputs": [],
   "source": [
    "%load_ext autoreload\n",
    "%autoreload 2"
   ]
  },
  {
   "cell_type": "code",
   "execution_count": 2,
   "metadata": {},
   "outputs": [],
   "source": [
    "from typing import List\n",
    "import ast\n",
    "import inspect\n",
    "\n",
    "from occa import okl\n",
    "from occa.okl import Const, Exclusive, Shared\n",
    "from occa.okl import Oklifier, py2okl"
   ]
  },
  {
   "cell_type": "code",
   "execution_count": 9,
   "metadata": {},
   "outputs": [],
   "source": [
    "def add(a: Const[float], \n",
    "        b: Const[float]) -> float:\n",
    "    return a + b\n",
    "\n",
    "@okl.kernel\n",
    "def add_vectors(a: Const[List[float]],\n",
    "                b: Const[List[float]],\n",
    "                ab: List[float]) -> None:\n",
    "    for i in okl.range(len(a)).tile(16):\n",
    "        # Type tests\n",
    "        foo: bool = True\n",
    "        bar: np.float64 = 3.2\n",
    "        s_foo: Shared[List[float, 20, 30]]\n",
    "        e_foo: Exclusive[float]\n",
    "        bar: Const[List[float, 2]] = [1,2]\n",
    "            \n",
    "        s: str = 'string'\n",
    "            \n",
    "        # Flow tests\n",
    "        for j in range(10):\n",
    "            pass\n",
    "        \n",
    "        if i > 10:\n",
    "            continue\n",
    "        elif i < 5:\n",
    "            break\n",
    "        else:\n",
    "            i: int = 3\n",
    "            return 3\n",
    "        \n",
    "        while True:\n",
    "            pass\n",
    "            \n",
    "        # Closure tests\n",
    "        ab[i] = add(a[i], b[i])"
   ]
  },
  {
   "cell_type": "code",
   "execution_count": 10,
   "metadata": {
    "scrolled": true
   },
   "outputs": [
    {
     "name": "stdout",
     "output_type": "stream",
     "text": [
      "double add(const double a,\n",
      "           const double b);\n",
      "\n",
      "double add(const double a,\n",
      "           const double b) {\n",
      "  return a + b;\n",
      "}\n",
      "\n",
      "@kernel void add_vectors(const double *a,\n",
      "                         const double *b,\n",
      "                         double *ab) {\n",
      "  for (int i = 0; i < 10; ++i) {\n",
      "    bool foo = true;\n",
      "    double bar = 3.2;\n",
      "    @shared double s_foo[20][30];\n",
      "    @exclusive double e_foo;\n",
      "    const double bar[2] = {1, 2};\n",
      "    char * s = \"string\";\n",
      "    for (int j = 0; j < 10; ++j) {}\n",
      "    if (i > 10) {\n",
      "      continue;\n",
      "    }\n",
      "    else if (i < 5) {\n",
      "      break;\n",
      "    }\n",
      "    else  {\n",
      "      int i = 3;\n",
      "      return 3;\n",
      "    }\n",
      "    while (true) {}\n",
      "    ab[i] = add(a[i], b[i]);\n",
      "  }\n",
      "}\n"
     ]
    }
   ],
   "source": [
    "print(add_vectors.__okl_source__)"
   ]
  },
  {
   "cell_type": "code",
   "execution_count": 5,
   "metadata": {},
   "outputs": [],
   "source": [
    "foo = okl.Oklifier.get_last_error_node()"
   ]
  },
  {
   "cell_type": "code",
   "execution_count": 6,
   "metadata": {},
   "outputs": [
    {
     "data": {
      "text/plain": [
       "<_ast.Name at 0x10c4b39e8>"
      ]
     },
     "execution_count": 6,
     "metadata": {},
     "output_type": "execute_result"
    }
   ],
   "source": [
    "foo"
   ]
  },
  {
   "cell_type": "code",
   "execution_count": 37,
   "metadata": {},
   "outputs": [
    {
     "data": {
      "text/plain": [
       "'np'"
      ]
     },
     "execution_count": 37,
     "metadata": {},
     "output_type": "execute_result"
    }
   ],
   "source": [
    "py2okl(foo.value.value)"
   ]
  },
  {
   "cell_type": "code",
   "execution_count": 36,
   "metadata": {},
   "outputs": [
    {
     "data": {
      "text/plain": [
       "'a'"
      ]
     },
     "execution_count": 36,
     "metadata": {},
     "output_type": "execute_result"
    }
   ],
   "source": [
    "foo.value.attr"
   ]
  },
  {
   "cell_type": "code",
   "execution_count": 61,
   "metadata": {},
   "outputs": [
    {
     "data": {
      "text/plain": [
       "'float'"
      ]
     },
     "execution_count": 61,
     "metadata": {},
     "output_type": "execute_result"
    }
   ],
   "source": [
    "py2okl.py2okl(foo.annotation)"
   ]
  },
  {
   "cell_type": "code",
   "execution_count": 167,
   "metadata": {},
   "outputs": [
    {
     "data": {
      "text/plain": [
       "'okl.range(len(a)).tile(foo)'"
      ]
     },
     "execution_count": 167,
     "metadata": {},
     "output_type": "execute_result"
    }
   ],
   "source": [
    "py2okl.py2okl(iter)"
   ]
  },
  {
   "cell_type": "code",
   "execution_count": 132,
   "metadata": {},
   "outputs": [
    {
     "data": {
      "text/plain": [
       "['16']"
      ]
     },
     "execution_count": 132,
     "metadata": {},
     "output_type": "execute_result"
    }
   ],
   "source": [
    "py2okl.py2okl(iter.args)"
   ]
  },
  {
   "cell_type": "code",
   "execution_count": 136,
   "metadata": {},
   "outputs": [
    {
     "data": {
      "text/plain": [
       "'tile'"
      ]
     },
     "execution_count": 136,
     "metadata": {},
     "output_type": "execute_result"
    }
   ],
   "source": [
    "iter.func.attr"
   ]
  },
  {
   "cell_type": "code",
   "execution_count": 137,
   "metadata": {},
   "outputs": [
    {
     "data": {
      "text/plain": [
       "'okl.range(len(a))'"
      ]
     },
     "execution_count": 137,
     "metadata": {},
     "output_type": "execute_result"
    }
   ],
   "source": [
    "py2okl.py2okl(iter.func.value)"
   ]
  },
  {
   "cell_type": "code",
   "execution_count": 138,
   "metadata": {},
   "outputs": [
    {
     "data": {
      "text/plain": [
       "['len(a)']"
      ]
     },
     "execution_count": 138,
     "metadata": {},
     "output_type": "execute_result"
    }
   ],
   "source": [
    "py2okl.py2okl(iter.func.value.args)"
   ]
  },
  {
   "cell_type": "code",
   "execution_count": 141,
   "metadata": {},
   "outputs": [
    {
     "data": {
      "text/plain": [
       "'range'"
      ]
     },
     "execution_count": 141,
     "metadata": {},
     "output_type": "execute_result"
    }
   ],
   "source": [
    "iter.func.value.func.attr"
   ]
  },
  {
   "cell_type": "code",
   "execution_count": 143,
   "metadata": {},
   "outputs": [
    {
     "data": {
      "text/plain": [
       "'okl'"
      ]
     },
     "execution_count": 143,
     "metadata": {},
     "output_type": "execute_result"
    }
   ],
   "source": [
    "py2okl.py2okl(iter.func.value.func.value)"
   ]
  },
  {
   "cell_type": "code",
   "execution_count": 144,
   "metadata": {},
   "outputs": [
    {
     "data": {
      "text/plain": [
       "'okl.range'"
      ]
     },
     "execution_count": 144,
     "metadata": {},
     "output_type": "execute_result"
    }
   ],
   "source": [
    "py2okl.py2okl(iter.func.value.func)"
   ]
  },
  {
   "cell_type": "code",
   "execution_count": 145,
   "metadata": {},
   "outputs": [
    {
     "data": {
      "text/plain": [
       "'okl.range(len(a)).tile'"
      ]
     },
     "execution_count": 145,
     "metadata": {},
     "output_type": "execute_result"
    }
   ],
   "source": [
    "py2okl.py2okl(iter.func)"
   ]
  }
 ],
 "metadata": {
  "kernelspec": {
   "display_name": "Python 3",
   "language": "python",
   "name": "python3"
  },
  "language_info": {
   "codemirror_mode": {
    "name": "ipython",
    "version": 3
   },
   "file_extension": ".py",
   "mimetype": "text/x-python",
   "name": "python",
   "nbconvert_exporter": "python",
   "pygments_lexer": "ipython3",
   "version": "3.6.0"
  }
 },
 "nbformat": 4,
 "nbformat_minor": 2
}
