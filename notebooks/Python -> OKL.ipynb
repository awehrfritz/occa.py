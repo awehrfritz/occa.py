{
 "cells": [
  {
   "cell_type": "markdown",
   "metadata": {},
   "source": [
    "# Python &rarr; OKL Sandbox\n",
    "\n",
    "AST Grammar info can be found in the [ast docs](https://docs.python.org/3/library/ast.html#abstract-grammar)"
   ]
  },
  {
   "cell_type": "code",
   "execution_count": 1,
   "metadata": {},
   "outputs": [],
   "source": [
    "import ast\n",
    "import inspect"
   ]
  },
  {
   "cell_type": "markdown",
   "metadata": {},
   "source": [
    "# Node Converters"
   ]
  },
  {
   "cell_type": "code",
   "execution_count": 2,
   "metadata": {},
   "outputs": [],
   "source": [
    "def NodeBody_str(nodes, indent):\n",
    "    return '\\n'.join(\n",
    "        (indent + node_str(node, indent=indent))\n",
    "        for node in nodes\n",
    "    )\n",
    "    \n",
    "def Module_str(node, indent):\n",
    "    return NodeBody_str(node.body, indent)"
   ]
  },
  {
   "cell_type": "code",
   "execution_count": 3,
   "metadata": {},
   "outputs": [],
   "source": [
    "def Name_str(node, indent):\n",
    "    return node.id"
   ]
  },
  {
   "cell_type": "code",
   "execution_count": 4,
   "metadata": {},
   "outputs": [],
   "source": [
    "def Subscript_str(node, indent):\n",
    "    if not isinstance(node.slice, ast.Index):\n",
    "        raise ValueError('Can only handle single access slices')\n",
    "    return '{value}[{index}]'.format(value=node_str(node.value, indent),\n",
    "                                     index=node_str(node.slice, indent))"
   ]
  },
  {
   "cell_type": "code",
   "execution_count": 5,
   "metadata": {},
   "outputs": [],
   "source": [
    "def Index_str(node, indent):\n",
    "    return node_str(node.value, indent)"
   ]
  },
  {
   "cell_type": "code",
   "execution_count": 6,
   "metadata": {},
   "outputs": [],
   "source": [
    "def Assign_str(node, indent):\n",
    "    if len(node.targets) != 1:\n",
    "        raise ValueError('Cannot handle assignment of more than 1 value')\n",
    "    return '{left} = {right}'.format(left=node_str(node.targets[0], indent),\n",
    "                                     right=node_str(node.value, indent))"
   ]
  },
  {
   "cell_type": "code",
   "execution_count": 7,
   "metadata": {},
   "outputs": [],
   "source": [
    "def Expr_str(node, indent):\n",
    "    return node_str(node.value, indent)"
   ]
  },
  {
   "cell_type": "code",
   "execution_count": 8,
   "metadata": {},
   "outputs": [],
   "source": [
    "def Num_str(node, indent):\n",
    "    return node.n"
   ]
  },
  {
   "cell_type": "code",
   "execution_count": 9,
   "metadata": {},
   "outputs": [],
   "source": [
    "UnaryOp_formats = {\n",
    "    ast.Invert: '~{value}',\n",
    "    ast.Not: '!{value}',\n",
    "    ast.UAdd: '+{value}',\n",
    "    ast.USub: '-{value}',\n",
    "}\n",
    "\n",
    "def UnaryOp_str(node, indent):\n",
    "    str_format = UnaryOp_formats.get(type(node.op))\n",
    "    if str_format is None:\n",
    "        raise ValueError('Unable to handle operator: {}'.format(type(node.op)))\n",
    "    return str_format.format(value=node_str(node.operand, indent))"
   ]
  },
  {
   "cell_type": "code",
   "execution_count": 10,
   "metadata": {},
   "outputs": [],
   "source": [
    "BinOp_formats = {\n",
    "    ast.Add: '{left} + {right}',\n",
    "    ast.Sub: '{left} - {right}',\n",
    "    ast.Mult: '{left} * {right}',\n",
    "    ast.Div: '{left} / {right}',\n",
    "    ast.Mod: '{left} % {right}',\n",
    "    ast.Pow: 'pow({left}, {right})',\n",
    "    ast.LShift: '{left} << {right}',\n",
    "    ast.RShift: '{left} >> {right}',\n",
    "    ast.BitOr: '{left} | {right}',\n",
    "    ast.BitAnd: '{left} & {right}',\n",
    "    ast.FloorDiv: 'floor({left} / {right})',\n",
    "}\n",
    "\n",
    "def BinOp_str(node, indent):\n",
    "    str_format = BinOp_formats.get(type(node.op))\n",
    "    if str_format is None:\n",
    "        raise ValueError('Unable to handle operator: {}'.format(type(node.op)))\n",
    "    return str_format.format(left=node_str(node.left, indent),\n",
    "                             right=node_str(node.right, indent))"
   ]
  },
  {
   "cell_type": "code",
   "execution_count": 11,
   "metadata": {},
   "outputs": [],
   "source": [
    "def BoolOp_str(node, indent):\n",
    "    op = ' && ' if isinstance(node.op, ast.And) else ' || '\n",
    "    # TODO: Parentheses only if needed\n",
    "    return '({values})'.format(values=op.join(\n",
    "        node_str(subnode, indent)\n",
    "        for subnode in node.values\n",
    "    ))"
   ]
  },
  {
   "cell_type": "code",
   "execution_count": 12,
   "metadata": {},
   "outputs": [],
   "source": [
    "CompareOp_str = {\n",
    "    ast.Eq: '==',\n",
    "    ast.NotEq: '!=',\n",
    "    ast.Lt: '<',\n",
    "    ast.Gt: '>',\n",
    "    ast.GtE: '>=',\n",
    "    ast.Is: '==',\n",
    "    ast.IsNot: '!=',\n",
    "}\n",
    "\n",
    "def Compare_str(node, indent):\n",
    "    ops = [type(op) for op in node.ops]\n",
    "    for op in ops:\n",
    "        if op not in CompareOp_str:\n",
    "            raise ValueError('Cannot handle comparison operator: {}'.format(op))\n",
    "    ops = [\n",
    "        CompareOp_str[op]\n",
    "        for op in ops\n",
    "    ]\n",
    "    values = [\n",
    "        node_str(subnode, indent)\n",
    "        for subnode in [node.left, *node.comparators]\n",
    "    ]\n",
    "    # TODO: Parentheses only if needed\n",
    "    return ' && '.join(\n",
    "        '({left} {op} {right})'.format(left=left,\n",
    "                                       right=right,\n",
    "                                       op=ops[index])\n",
    "        for index, (left, right) in enumerate(zip(values[:-1], values[1:]))\n",
    "    )"
   ]
  },
  {
   "cell_type": "code",
   "execution_count": 13,
   "metadata": {},
   "outputs": [],
   "source": [
    "def split_for_iter(node):\n",
    "    # TODO: Extract start, end, step from node\n",
    "    return 0, 10, 1\n",
    "\n",
    "def For_str(node, indent):\n",
    "    if not isinstance(node.target, ast.Name):\n",
    "        raise ValueError('Can only handle one variable for the for-loop index')\n",
    "    index = node_str(node.target, indent)\n",
    "    start, end, step = split_for_iter(node.iter)\n",
    "    \n",
    "    if step == 0:\n",
    "        raise ValueError('Cannot have for-loop with a step size of 0')\n",
    "    \n",
    "    if step > 0:\n",
    "        if step == 1:\n",
    "            step = '++{index}'.format(index=index)\n",
    "        else:\n",
    "            step = '{index} += {step}'.format(index=index, step=step)\n",
    "    else:\n",
    "        if step == -1:\n",
    "            step = '--{index}'.format(index=index)\n",
    "        else:\n",
    "            step = '{index} -= {step}'.format(index=index, step=-step)\n",
    "    \n",
    "    for_str = (\n",
    "        '{indent}for (int {index} = {start}; {index} < {end}; {step}) {{'\n",
    "    ).format(indent=indent,\n",
    "             index=index,\n",
    "             start=start,\n",
    "             end=end,\n",
    "             step=step)\n",
    "    \n",
    "    body = NodeBody_str(node.body, indent + '  ')\n",
    "    if body:\n",
    "        for_str += '\\n{body}\\n{indent}'.format(body=body,\n",
    "                                               indent=indent)\n",
    "    return for_str + '}'"
   ]
  },
  {
   "cell_type": "code",
   "execution_count": 14,
   "metadata": {},
   "outputs": [],
   "source": [
    "OKLAttr_str = {\n",
    "    '@okl.kernel': '@kernel',\n",
    "}\n",
    "\n",
    "def Attribute_str(node, indent):\n",
    "    attr = '@{name}.{value}'.format(name=node_str(node.value, indent),\n",
    "                                    value=node.attr)\n",
    "    okl_attr = OKLAttr_str.get(attr)\n",
    "    if okl_attr is None:\n",
    "        raise ValueError('Cannot handle attribute: {attr}'.format(attr=attr))\n",
    "    return okl_attr"
   ]
  },
  {
   "cell_type": "code",
   "execution_count": 15,
   "metadata": {},
   "outputs": [],
   "source": [
    "def FunctionDef_str(node, indent):\n",
    "    name = 'add_vectors'\n",
    "    args = '...'\n",
    "    returns = 'void'\n",
    "    \n",
    "    # TODO: Make sure they are only supported OKL attributes like @kernel\n",
    "    decorators = ' '.join(\n",
    "        node_str(decorator)\n",
    "        for decorator in node.decorator_list\n",
    "    )\n",
    "    if decorators:\n",
    "        decorators += ' '\n",
    "        \n",
    "    func_str = (\n",
    "        '{decorators}{returns} {name}({args}) {{'\n",
    "    ).format(decorators=decorators,\n",
    "             name=name,\n",
    "             args=args,\n",
    "             returns=returns)\n",
    "    \n",
    "    body = NodeBody_str(node.body, indent + '  ')\n",
    "    if body:\n",
    "        func_str += '\\n{body}\\n{indent}'.format(body=body,\n",
    "                                                indent=indent)\n",
    "    return func_str + '}'"
   ]
  },
  {
   "cell_type": "markdown",
   "metadata": {},
   "source": [
    "# Convert generic ast node type"
   ]
  },
  {
   "cell_type": "code",
   "execution_count": 16,
   "metadata": {},
   "outputs": [],
   "source": [
    "Node_str = {\n",
    "    ast.Assign: Assign_str,\n",
    "    ast.Attribute: Attribute_str,\n",
    "    ast.BinOp: BinOp_str,\n",
    "    ast.BoolOp: BoolOp_str,\n",
    "    ast.Compare: Compare_str,\n",
    "    ast.Index: Index_str,\n",
    "    ast.Expr: Expr_str,\n",
    "    ast.For: For_str,\n",
    "    ast.FunctionDef: FunctionDef_str,\n",
    "    ast.Module: Module_str,\n",
    "    ast.Name: Name_str,\n",
    "    ast.Num: Num_str,\n",
    "    ast.Subscript: Subscript_str,\n",
    "    ast.UnaryOp: UnaryOp_str,\n",
    "}\n",
    "\n",
    "def node_str(node, indent=''):\n",
    "    str_func = Node_str.get(type(node))\n",
    "    if str_func is None:\n",
    "        raise ValueError('Unable to handle node type: {}'.format(type(node)))\n",
    "    return str_func(node, indent)\n",
    "\n",
    "def py2okl(okl_kernel):\n",
    "    root = ast.parse(inspect.getsource(okl_kernel._func))\n",
    "    return node_str(root)"
   ]
  },
  {
   "cell_type": "markdown",
   "metadata": {},
   "source": [
    "# _okl_ module placeholder"
   ]
  },
  {
   "cell_type": "code",
   "execution_count": 17,
   "metadata": {},
   "outputs": [],
   "source": [
    "class OKL:\n",
    "    class Kernel:\n",
    "        def __init__(self, func):\n",
    "            self._func = func\n",
    "            \n",
    "        def __call__(self, *args, **kwargs):\n",
    "            raise NotImplementedError()\n",
    "            \n",
    "    @staticmethod\n",
    "    def kernel(func):\n",
    "        return OKL.Kernel(func)\n",
    "\n",
    "okl = OKL()"
   ]
  },
  {
   "cell_type": "markdown",
   "metadata": {},
   "source": [
    "# Example"
   ]
  },
  {
   "cell_type": "code",
   "execution_count": 18,
   "metadata": {},
   "outputs": [],
   "source": [
    "@okl.kernel\n",
    "def add_vectors(a: [float],\n",
    "                b: [float],\n",
    "                ab: [float]):\n",
    "    for i in okl.range(len(a)).tile(16):\n",
    "      ab[i] = a[i] + b[i]"
   ]
  },
  {
   "cell_type": "code",
   "execution_count": 19,
   "metadata": {},
   "outputs": [
    {
     "name": "stdout",
     "output_type": "stream",
     "text": [
      "@kernel void add_vectors(...) {\n",
      "    for (int i = 0; i < 10; ++i) {\n",
      "    ab[i] = a[i] + b[i]\n",
      "  }\n",
      "}\n"
     ]
    }
   ],
   "source": [
    "print(py2okl(add_vectors))"
   ]
  }
 ],
 "metadata": {
  "kernelspec": {
   "display_name": "Python 3",
   "language": "python",
   "name": "python3"
  },
  "language_info": {
   "codemirror_mode": {
    "name": "ipython",
    "version": 3
   },
   "file_extension": ".py",
   "mimetype": "text/x-python",
   "name": "python",
   "nbconvert_exporter": "python",
   "pygments_lexer": "ipython3",
   "version": "3.6.6"
  }
 },
 "nbformat": 4,
 "nbformat_minor": 2
}
