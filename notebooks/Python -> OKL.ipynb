{
 "cells": [
  {
   "cell_type": "markdown",
   "metadata": {},
   "source": [
    "# Python &rarr; OKL Sandbox\n",
    "\n",
    "AST Grammar info can be found in the [ast docs](https://docs.python.org/3/library/ast.html#abstract-grammar)"
   ]
  },
  {
   "cell_type": "code",
   "execution_count": 1,
   "metadata": {},
   "outputs": [],
   "source": [
    "%load_ext autoreload\n",
    "%autoreload 2"
   ]
  },
  {
   "cell_type": "code",
   "execution_count": 19,
   "metadata": {},
   "outputs": [],
   "source": [
    "from typing import List\n",
    "import ast\n",
    "import inspect\n",
    "\n",
    "from occa import okl\n",
    "from occa.okl import Const, Exclusive, Shared\n",
    "from occa.okl import Oklifier, py2okl\n",
    "from occa.okl.attrorderer import AttrOrderer"
   ]
  },
  {
   "cell_type": "code",
   "execution_count": 72,
   "metadata": {},
   "outputs": [],
   "source": [
    "def get_add_vectors(foo):\n",
    "    @okl.kernel\n",
    "    def add_vectors(a: Const[List[float]],\n",
    "                    b: Const[List[float]],\n",
    "                    ab: List[float]) -> None:\n",
    "        for i in okl.range(foo).tile(16):\n",
    "            ab[i] = a[i] + b[i]\n",
    "    return add_vectors"
   ]
  },
  {
   "cell_type": "code",
   "execution_count": 73,
   "metadata": {},
   "outputs": [
    {
     "name": "stdout",
     "output_type": "stream",
     "text": [
      "@kernel void add_vectors(const double *a,\n",
      "                         const double *b,\n",
      "                         double *ab) {\n",
      "  for (int i = 0; i < 20; ++i) {\n",
      "    ab[i] = a[i] + b[i];\n",
      "  }\n",
      "}\n"
     ]
    }
   ],
   "source": [
    "print(get_add_vectors(20).__okl_source__)"
   ]
  },
  {
   "cell_type": "code",
   "execution_count": 60,
   "metadata": {},
   "outputs": [],
   "source": [
    "def add(a: Const[float], \n",
    "        b: Const[float]) -> float:\n",
    "    return a + b\n",
    "\n",
    "@okl.kernel\n",
    "def add_vectors(a: Const[List[float]],\n",
    "                b: Const[List[float]],\n",
    "                ab: List[float]) -> None:\n",
    "    for i in range(3):\n",
    "        pass\n",
    "    for i in okl.range(len(a)).tile(16)(1)[2]:\n",
    "        # Type tests\n",
    "        foo: bool = True\n",
    "        bar: np.float64 = 3.2\n",
    "        s_foo: Shared[List[float, 20, 30]]\n",
    "        e_foo: Exclusive[float]\n",
    "        bar: Const[List[float, 2]] = [1,2]\n",
    "            \n",
    "        s: str = 'string'\n",
    "            \n",
    "        # Flow tests\n",
    "        for j in range(10):\n",
    "            pass\n",
    "        \n",
    "        if i > 10:\n",
    "            continue\n",
    "        elif i < 5:\n",
    "            break\n",
    "        else:\n",
    "            i: int = 3\n",
    "            return 3\n",
    "        \n",
    "        while True:\n",
    "            pass\n",
    "            \n",
    "        # Closure tests\n",
    "        ab[i] = add(a[i], b[i])"
   ]
  },
  {
   "cell_type": "code",
   "execution_count": 14,
   "metadata": {
    "scrolled": false
   },
   "outputs": [
    {
     "name": "stdout",
     "output_type": "stream",
     "text": [
      "double add(const double a,\n",
      "           const double b);\n",
      "\n",
      "double add(const double a,\n",
      "           const double b) {\n",
      "  return a + b;\n",
      "}\n",
      "\n",
      "@kernel void add_vectors(const double *a,\n",
      "                         const double *b,\n",
      "                         double *ab) {\n",
      "  for (int i = 0; i < 3; ++i) {}\n",
      "  for (int i = 0; i < a__len__; ++i) {\n",
      "    bool foo = true;\n",
      "    double bar = 3.2;\n",
      "    @shared double s_foo[20][30];\n",
      "    @exclusive double e_foo;\n",
      "    const double bar[2] = {1, 2};\n",
      "    char *s = \"string\";\n",
      "    for (int j = 0; j < 10; ++j) {}\n",
      "    if (i > 10) {\n",
      "      continue;\n",
      "    }\n",
      "    else if (i < 5) {\n",
      "      break;\n",
      "    }\n",
      "    else  {\n",
      "      int i = 3;\n",
      "      return 3;\n",
      "    }\n",
      "    while (true) {}\n",
      "    ab[i] = add(a[i], b[i]);\n",
      "  }\n",
      "}\n"
     ]
    }
   ],
   "source": [
    "print(add_vectors.__okl_source__)"
   ]
  },
  {
   "cell_type": "code",
   "execution_count": 36,
   "metadata": {},
   "outputs": [
    {
     "ename": "NameError",
     "evalue": "name '_Oklifier__oklifier_last_error_node' is not defined",
     "output_type": "error",
     "traceback": [
      "\u001b[0;31m---------------------------------------------------------------------------\u001b[0m",
      "\u001b[0;31mNameError\u001b[0m                                 Traceback (most recent call last)",
      "\u001b[0;32m<ipython-input-36-79805f3d0af5>\u001b[0m in \u001b[0;36m<module>\u001b[0;34m()\u001b[0m\n\u001b[0;32m----> 1\u001b[0;31m \u001b[0mfoo\u001b[0m \u001b[0;34m=\u001b[0m \u001b[0mokl\u001b[0m\u001b[0;34m.\u001b[0m\u001b[0mOklifier\u001b[0m\u001b[0;34m.\u001b[0m\u001b[0mget_last_error_node\u001b[0m\u001b[0;34m(\u001b[0m\u001b[0;34m)\u001b[0m\u001b[0;34m\u001b[0m\u001b[0m\n\u001b[0m",
      "\u001b[0;32m~/git/occa.py/occa/okl/oklifier.py\u001b[0m in \u001b[0;36mget_last_error_node\u001b[0;34m()\u001b[0m\n\u001b[1;32m    669\u001b[0m     \u001b[0;32mdef\u001b[0m \u001b[0mget_last_error_node\u001b[0m\u001b[0;34m(\u001b[0m\u001b[0;34m)\u001b[0m\u001b[0;34m:\u001b[0m\u001b[0;34m\u001b[0m\u001b[0m\n\u001b[1;32m    670\u001b[0m         \u001b[0;32mglobal\u001b[0m \u001b[0m__oklifier_last_error_node\u001b[0m\u001b[0;34m\u001b[0m\u001b[0m\n\u001b[0;32m--> 671\u001b[0;31m         \u001b[0;32mreturn\u001b[0m \u001b[0m__oklifier_last_error_node\u001b[0m\u001b[0;34m\u001b[0m\u001b[0m\n\u001b[0m\u001b[1;32m    672\u001b[0m \u001b[0;34m\u001b[0m\u001b[0m\n\u001b[1;32m    673\u001b[0m     \u001b[0;32mdef\u001b[0m \u001b[0mraise_error\u001b[0m\u001b[0;34m(\u001b[0m\u001b[0mself\u001b[0m\u001b[0;34m,\u001b[0m \u001b[0mnode\u001b[0m\u001b[0;34m,\u001b[0m \u001b[0mmessage\u001b[0m\u001b[0;34m)\u001b[0m\u001b[0;34m:\u001b[0m\u001b[0;34m\u001b[0m\u001b[0m\n",
      "\u001b[0;31mNameError\u001b[0m: name '_Oklifier__oklifier_last_error_node' is not defined"
     ]
    }
   ],
   "source": [
    "foo = okl.Oklifier.get_last_error_node()"
   ]
  },
  {
   "cell_type": "code",
   "execution_count": 33,
   "metadata": {},
   "outputs": [
    {
     "ename": "NameError",
     "evalue": "name 'foo' is not defined",
     "output_type": "error",
     "traceback": [
      "\u001b[0;31m---------------------------------------------------------------------------\u001b[0m",
      "\u001b[0;31mNameError\u001b[0m                                 Traceback (most recent call last)",
      "\u001b[0;32m<ipython-input-33-f1d2d2f924e9>\u001b[0m in \u001b[0;36m<module>\u001b[0;34m()\u001b[0m\n\u001b[0;32m----> 1\u001b[0;31m \u001b[0mfoo\u001b[0m\u001b[0;34m\u001b[0m\u001b[0m\n\u001b[0m",
      "\u001b[0;31mNameError\u001b[0m: name 'foo' is not defined"
     ]
    }
   ],
   "source": [
    "foo"
   ]
  }
 ],
 "metadata": {
  "kernelspec": {
   "display_name": "Python 3",
   "language": "python",
   "name": "python3"
  },
  "language_info": {
   "codemirror_mode": {
    "name": "ipython",
    "version": 3
   },
   "file_extension": ".py",
   "mimetype": "text/x-python",
   "name": "python",
   "nbconvert_exporter": "python",
   "pygments_lexer": "ipython3",
   "version": "3.6.0"
  }
 },
 "nbformat": 4,
 "nbformat_minor": 2
}
