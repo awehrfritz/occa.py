{
 "cells": [
  {
   "cell_type": "markdown",
   "metadata": {},
   "source": [
    "### Imports"
   ]
  },
  {
   "cell_type": "code",
   "execution_count": 1,
   "metadata": {},
   "outputs": [],
   "source": [
    "import argparse\n",
    "import numpy as np\n",
    "import occa"
   ]
  },
  {
   "cell_type": "markdown",
   "metadata": {},
   "source": [
    "### Initialize Data"
   ]
  },
  {
   "cell_type": "code",
   "execution_count": 2,
   "metadata": {},
   "outputs": [],
   "source": [
    "# Create device\n",
    "device = occa.Device(mode='Serial')\n",
    "\n",
    "# Alternatively, try out:\n",
    "#\n",
    "#   device.setup(mode='OpenMP',\n",
    "#                schedule='compact',\n",
    "#                chunk=10)\n",
    "#\n",
    "#   device.setup(mode='OpenCL',\n",
    "#                platform_id=0,\n",
    "#                device_id=0)\n",
    "#\n",
    "#   device.setup(mode='CUDA'\n",
    "#                device_id=0)\n",
    "\n",
    "# Allocate memory in Python + device\n",
    "entries = 10\n",
    "\n",
    "a  = np.arange(entries, dtype=np.float32)\n",
    "b  = 1 - a\n",
    "ab = np.zeros(entries, dtype=np.float32)\n",
    "\n",
    "# Allocate memory in device and copy over data\n",
    "o_a  = device.malloc(a)\n",
    "o_b  = device.malloc(b)\n",
    "o_ab = device.malloc(entries, dtype=np.float32)"
   ]
  },
  {
   "cell_type": "markdown",
   "metadata": {},
   "source": [
    "### Build Kernel"
   ]
  },
  {
   "cell_type": "code",
   "execution_count": 3,
   "metadata": {},
   "outputs": [],
   "source": [
    "add_vectors_source = r'''\n",
    "@kernel void addVectors(const int entries,\n",
    "                        const float *a,\n",
    "                        const float *b,\n",
    "                        float *ab) {\n",
    "  for (int i = 0; i < entries; ++i; @tile(16, @outer, @inner)) {\n",
    "    ab[i] = a[i] + b[i];\n",
    "  }\n",
    "}\n",
    "'''\n",
    "\n",
    "add_vectors = device.build_kernel_from_string(add_vectors_source,\n",
    "                                              'addVectors')\n",
    "\n",
    "# Or you can build from a file\n",
    "# add_vectors = d.build_kernel('addVectors.okl',\n",
    "#                              'addVectors')"
   ]
  },
  {
   "cell_type": "markdown",
   "metadata": {},
   "source": [
    "### Launch Kernel and Copy to Host"
   ]
  },
  {
   "cell_type": "code",
   "execution_count": 4,
   "metadata": {
    "scrolled": true
   },
   "outputs": [
    {
     "data": {
      "text/plain": [
       "array([0., 0., 0., 0., 0., 0., 0., 0., 0., 0.], dtype=float32)"
      ]
     },
     "execution_count": 4,
     "metadata": {},
     "output_type": "execute_result"
    }
   ],
   "source": [
    "add_vectors(np.intc(entries),\n",
    "            o_a, o_b, o_ab)\n",
    "#Before\n",
    "ab"
   ]
  },
  {
   "cell_type": "code",
   "execution_count": 5,
   "metadata": {},
   "outputs": [
    {
     "data": {
      "text/plain": [
       "array([1., 1., 1., 1., 1., 1., 1., 1., 1., 1.], dtype=float32)"
      ]
     },
     "execution_count": 5,
     "metadata": {},
     "output_type": "execute_result"
    }
   ],
   "source": [
    "# Copy device data to host\n",
    "o_ab.copy_to(ab)\n",
    "ab"
   ]
  }
 ],
 "metadata": {
  "kernelspec": {
   "display_name": "Python 3",
   "language": "python",
   "name": "python3"
  },
  "language_info": {
   "codemirror_mode": {
    "name": "ipython",
    "version": 3
   },
   "file_extension": ".py",
   "mimetype": "text/x-python",
   "name": "python",
   "nbconvert_exporter": "python",
   "pygments_lexer": "ipython3",
   "version": "3.6.0"
  }
 },
 "nbformat": 4,
 "nbformat_minor": 2
}
